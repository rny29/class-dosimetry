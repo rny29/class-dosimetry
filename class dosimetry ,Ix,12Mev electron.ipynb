{
 "cells": [
  {
   "cell_type": "markdown",
   "metadata": {},
   "source": [
    "# Determination of the absorb dose water in a high-energy electron beam (9Mev)"
   ]
  },
  {
   "cell_type": "markdown",
   "metadata": {},
   "source": [
    "# Radiation Treatment Unit and Reference Conditions for D w,Q Determination"
   ]
  },
  {
   "cell_type": "code",
   "execution_count": null,
   "metadata": {},
   "outputs": [],
   "source": [
    "# Accelerator =  Clinac Ix\n",
    "#Nominal dose rate:300 MU/min\n",
    "#Nominal energy = 12Mev\n",
    "# measured R50 = 4.9 gm / cm2 \n",
    "# Phantom: water,\n",
    "# FS = 10cm X 10 cm, Collimator = 0, Couch angle = 0, Gantry = 0\n",
    "#SSD = 100cm applicator = 10x10\n",
    "# Reference depth (Zref,w) = 0.6*R50-0.1 = 2.8 gm/cm2 = 2.8 gm/ cm2 approx\n",
    "#  Beam quality,Q(R50,w) = 4.9 gm/cm2  "
   ]
  },
  {
   "cell_type": "markdown",
   "metadata": {},
   "source": [
    "# Ioniztion Chamber and Electrometer"
   ]
  },
  {
   "cell_type": "code",
   "execution_count": null,
   "metadata": {},
   "outputs": [],
   "source": [
    "# Ion. chamber model: Markus\n",
    "# serial No : TNC/61\n",
    "# detector :PPC05 (chamber)\n",
    "# chamber wall material : polythene\n",
    "# chamber wall thickness: o.1020 gm/cm2\n",
    "# Electrometer model : Dose 1, serial No = 03\\8444, range setting = 0-10nA"
   ]
  },
  {
   "cell_type": "markdown",
   "metadata": {},
   "source": [
    "# Calibration Factor and its Reference Condtion"
   ]
  },
  {
   "cell_type": "code",
   "execution_count": null,
   "metadata": {},
   "outputs": [],
   "source": [
    "# Abs. dose to water callibration factor N D, w, Q o(N) = 0.5314 Gy/nC = 5.314 cGy/nC, calibration quality Qo = Co-60\n",
    "# calibration depth = 10 gm/cm2\n",
    "# Reference Condition for Calibration: Po = 103.3 kPa , To = 20.0 degree celcius, Relative humidity = 10 %"
   ]
  },
  {
   "cell_type": "markdown",
   "metadata": {},
   "source": [
    "# Dosimetry Reading"
   ]
  },
  {
   "cell_type": "code",
   "execution_count": null,
   "metadata": {},
   "outputs": [],
   "source": [
    "# Reading for abs dose:(M1)= 2.041 nC (mean readins) at V1 = 300 , MU = 100, T = 20.0 degree celcius, P = 98.3 kPa FS = 10 cmx 10cm,\n",
    "# M1 = 0.0209 nC/MU\n",
    "# Reading for recombination correction:M1=2.04 nC(mean reading) for V1 = 300V and M2 = 2.03(mean reading) nC for V2 = 100 V\n",
    "# Reading for polarity correction: M3 = M+ = 2.041 nC(mean reading) for +300 V and M4 = M- = 2.03 nC(mean reading) for -300V "
   ]
  },
  {
   "cell_type": "markdown",
   "metadata": {},
   "source": [
    "# Correction For Influence Quantities : Temperature, Pressure, Polarity and Recombination of Charge"
   ]
  },
  {
   "cell_type": "code",
   "execution_count": 3,
   "metadata": {},
   "outputs": [],
   "source": [
    "class dosimetry ():\n",
    "    def __init__(self, value_of_N, value_of_K, supplied_info): # calibration factor N = NDw,Qo = 0.5314 Gy/nC, K = KQQo = 0.8998\n",
    "        self.N = value_of_N\n",
    "        self.info = supplied_info\n",
    "        self.K = value_of_K \n",
    "    def TPcorr (self, T, P):\n",
    "        Ktp = ((273.2+T)/293.2)*(101.3/P)  # 293.2 = 273.2 + To where To = 20.0 degree celcious and Po = 101.3 kPa\n",
    "        print(self.info)                  # P = 98.3 kPa and T = 20.0 degree celcius relative humidity = 50 %\n",
    "        return Ktp\n",
    "    def recombinationcorr (self,M1,M2):      # M1 =2.041 nC(mean) and M2 = 2.03 nC(mean) for +300v and 100v respectively\n",
    "        Ks = 1.1980 + float(-0.8753)*(M1/M2) + float(0.6773)*(M1/M2)**2  # ao = 1.1980,a1 = -0.8753 and a2 = 0.6773\n",
    "        print(self.info)\n",
    "        return Ks\n",
    "    \n",
    "    def polaritycorr (self,M3,M4):       # M3= M+ = 2.041 nC (mean) and M4 = M- = 2.03 nC(mean) for +300V and  -300V respectively\n",
    "        Kpol = (M3 + M4)/(2*M3)         # here M+ and M- replaced by M3 and M4 to make easy to make function\n",
    "        print(self.info)\n",
    "        return Kpol"
   ]
  },
  {
   "cell_type": "code",
   "execution_count": 4,
   "metadata": {},
   "outputs": [],
   "source": [
    "D1 = dosimetry(value_of_N = 0.5314, value_of_K = 0.8998,supplied_info = \"great job\")"
   ]
  },
  {
   "cell_type": "code",
   "execution_count": 7,
   "metadata": {},
   "outputs": [
    {
     "name": "stdout",
     "output_type": "stream",
     "text": [
      "great job\n",
      "great job\n",
      "great job\n"
     ]
    },
    {
     "data": {
      "text/plain": [
       "(1.0312217659280065, 0.9973052425281724, 1.0023775194739013, 0.5314, 0.8998)"
      ]
     },
     "execution_count": 7,
     "metadata": {},
     "output_type": "execute_result"
    }
   ],
   "source": [
    "D1.TPcorr(20.2,98.3),D1.polaritycorr(2.041,2.03),D1.recombinationcorr(2.04,2.03),D1.N ,D1.K"
   ]
  },
  {
   "cell_type": "markdown",
   "metadata": {},
   "source": [
    "# Absorbed Dose Rate to Water at the Reference Depth Zref"
   ]
  },
  {
   "cell_type": "code",
   "execution_count": 9,
   "metadata": {},
   "outputs": [],
   "source": [
    "def AbsDoseRate_water_Zref(M1,Ktp,Kpol,Ks,N,K): # AbsDoseRate_Zref = absorb dose rate to water at the referenve depth Zrer\n",
    "    D = M1*Ktp*Kpol*Ks*N*K   #D= Dw,Q(Zref)\n",
    "    return D"
   ]
  },
  {
   "cell_type": "code",
   "execution_count": 10,
   "metadata": {},
   "outputs": [
    {
     "data": {
      "text/plain": [
       "1.0060557203580263"
      ]
     },
     "execution_count": 10,
     "metadata": {},
     "output_type": "execute_result"
    }
   ],
   "source": [
    "AbsDoseRate_water_Zref(2.041,1.0312217659280065, 0.9973052425281724, 1.0023775194739013, 0.5314, 0.8998) # unit = Gy/100MU"
   ]
  },
  {
   "cell_type": "code",
   "execution_count": null,
   "metadata": {},
   "outputs": [],
   "source": []
  }
 ],
 "metadata": {
  "kernelspec": {
   "display_name": "Python 3",
   "language": "python",
   "name": "python3"
  },
  "language_info": {
   "codemirror_mode": {
    "name": "ipython",
    "version": 3
   },
   "file_extension": ".py",
   "mimetype": "text/x-python",
   "name": "python",
   "nbconvert_exporter": "python",
   "pygments_lexer": "ipython3",
   "version": "3.7.6"
  }
 },
 "nbformat": 4,
 "nbformat_minor": 4
}
