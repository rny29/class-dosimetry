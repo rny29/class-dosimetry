{
 "cells": [
  {
   "cell_type": "markdown",
   "metadata": {},
   "source": [
    "# Determination of the absorb dose water in a high-energy photon beam (6MV)\n"
   ]
  },
  {
   "cell_type": "markdown",
   "metadata": {},
   "source": [
    "# Radiation Treatment Unit and Reference Conditions for D w,Q Determination"
   ]
  },
  {
   "cell_type": "code",
   "execution_count": 2,
   "metadata": {},
   "outputs": [],
   "source": [
    "# Accelerator = 600 CD\n",
    "#Nominal dose rate:300 MU/min\n",
    "#Nominal energy = 6Mev#\n",
    "# Phantom: water,\n",
    "# FS = 10cm X 10 cm, Collimator = 0, Couch = 0, Gantry = 0\n",
    "#SSD = 100cm\n",
    "# reference depth Zref: 10 gm/cm2\n",
    "#  Beam quality,Q(TPR 20/10) = 0.663           \n",
    "\n",
    "           "
   ]
  },
  {
   "cell_type": "markdown",
   "metadata": {},
   "source": [
    "# Ioniztion Chamber and Electrometer"
   ]
  },
  {
   "cell_type": "code",
   "execution_count": 12,
   "metadata": {},
   "outputs": [],
   "source": [
    "# Ion. chamber model: wellhofer IC 70 Farmer\n",
    "# serial No : WD 302\n",
    "# chamber wall material : graphite\n",
    "# chamber wall thickness: o.068 gm/cm2\n",
    "\n",
    "# Electrometer model : Dose 1, serial No = 03\\8444, range setting = 0-10nA\n",
    "   "
   ]
  },
  {
   "cell_type": "markdown",
   "metadata": {},
   "source": [
    "# Calibration Factor and its Reference Condtion"
   ]
  },
  {
   "cell_type": "code",
   "execution_count": null,
   "metadata": {},
   "outputs": [],
   "source": [
    "# Abs. dose to water callibration factor N D, w, Q o(N) = 0.04846 Gy/nC = 4.846 cGy/nC, calibration quality Qo = Co-60\n",
    "# calibration depth = 10 gm/cm2\n",
    "# reference condition for calibration: Po = 103.3 kPa , To = 20.0 degree celcius, Relative humidity = 50 %"
   ]
  },
  {
   "cell_type": "markdown",
   "metadata": {},
   "source": [
    "# Dosimetry Reading"
   ]
  },
  {
   "cell_type": "code",
   "execution_count": 13,
   "metadata": {},
   "outputs": [],
   "source": [
    "# Reading absorb dose measurment:(M1)= 13.44 nC (mean readins) at V1 = 300 , MU = 100, T = 28.4 degree celcius, P = 98.3 kPa FS = 10 cmx 10cm,\n",
    "# Reading for recombination correction:M1= 13.44 nC(mean reading) for V1 = 300V and M2 = 13.35(mean reading) nC for V2 = 100 V\n",
    "# Reading for polarity correction: M3 = M+ = 13.44 nC(mean reading) for +300 V and M4 = M- = 13.48 nC(mean reading) for -300V \n",
    "# Reading for TPR calculation:SSD = 90cm, Depth = 10cm, M10 =  ,SSD = 80cm, depth = 20,M20 = .....TPR20,10= 0.663\n"
   ]
  },
  {
   "cell_type": "markdown",
   "metadata": {},
   "source": [
    "# Correction For Influence Quantities : Temperature, Pressure, Polarity and Recombination Charge"
   ]
  },
  {
   "cell_type": "code",
   "execution_count": 4,
   "metadata": {},
   "outputs": [],
   "source": [
    "class dosimetry ():\n",
    "    def __init__(self, value_of_N, value_of_K, supplied_info): # calibration factor N = NDw,Qo = 0.04846 Gy/nC, K = KQQo = 0.9947 \n",
    "        self.N = value_of_N\n",
    "        self.info = supplied_info\n",
    "        self.K = value_of_K \n",
    "    def TPcorr (self, T, P):\n",
    "        Ktp = ((273.2+T)/293.2)*(101.3/P)  # 293.2 = 273.2 + To where To = 20.0 degree celcious and Po = 101.3 kPa\n",
    "        print(self.info)                  # P = 98.0 kPa and T = 28.2 degree celcius relative humidity = 50 %\n",
    "        return Ktp\n",
    "    def recombinationcorr (self,M1,M2):      # M1 =13.44 nC and M2 = 13.35 nC reading at voltages +300v and 100v respectively\n",
    "        Ks = 1.1980 + float(-0.8753)*(M1/M2) + float(0.6773)*(M1/M2)**2  # ao = 1.1980,a1 = -0.8753 and a2 = 0.6773\n",
    "        print(self.info)\n",
    "        return Ks\n",
    "    \n",
    "    def polaritycorr (self,M3,M4):              # M3= M+ = 13.44 nC at voltage = +300V and M4 = M- = 13.48 nC at voltage = -300v\n",
    "        Kpol = (M3 + M4)/(2*M3)                # here M+ and M- replaced by M3 and M4 to make easy to make function\n",
    "        print(self.info)\n",
    "        return Kpol"
   ]
  },
  {
   "cell_type": "code",
   "execution_count": 5,
   "metadata": {},
   "outputs": [],
   "source": [
    "D1 = dosimetry(value_of_N = 0.04846, value_of_K = 0.9947,supplied_info = \"great job\")"
   ]
  },
  {
   "cell_type": "code",
   "execution_count": 6,
   "metadata": {},
   "outputs": [
    {
     "name": "stdout",
     "output_type": "stream",
     "text": [
      "great job\n",
      "great job\n",
      "great job\n"
     ]
    },
    {
     "data": {
      "text/plain": [
       "(1.0632875796976362, 1.0014880952380953, 1.0032620184320162, 0.04846, 0.9947)"
      ]
     },
     "execution_count": 6,
     "metadata": {},
     "output_type": "execute_result"
    }
   ],
   "source": [
    "D1.TPcorr(28.4,98.0),D1.polaritycorr(13.44,13.48),D1.recombinationcorr(13.44,13.35),D1.N ,D1.K "
   ]
  },
  {
   "cell_type": "markdown",
   "metadata": {},
   "source": [
    "# Absorbed Dose Rate to Water at the Reference Depth Zref"
   ]
  },
  {
   "cell_type": "code",
   "execution_count": 7,
   "metadata": {},
   "outputs": [],
   "source": [
    "def AbsDoseRate_water_Zref(M1,Ktp,Kpol,Ks,N,K): # AbsDoseRate_Zref = absorb dose rate to water at the referenve depth Zrer\n",
    "    D = M1*Ktp*Kpol*Ks*N*K   #D= Dw,Q(Zref)\n",
    "    return D"
   ]
  },
  {
   "cell_type": "code",
   "execution_count": 8,
   "metadata": {},
   "outputs": [
    {
     "data": {
      "text/plain": [
       "0.6921268534683911"
      ]
     },
     "execution_count": 8,
     "metadata": {},
     "output_type": "execute_result"
    }
   ],
   "source": [
    "AbsDoseRate_water_Zref(13.44,1.0632875796976362, 1.0014880952380953, 1.0032620184320162, 0.04846, 0.9947) # unit = Gy/100 MU"
   ]
  },
  {
   "cell_type": "markdown",
   "metadata": {},
   "source": [
    "# Absorbed Dose Rate to Water at the Depth of dose maximum,Zmax in SSD Set Up"
   ]
  },
  {
   "cell_type": "code",
   "execution_count": 9,
   "metadata": {},
   "outputs": [],
   "source": [
    "def AbsDoseRate_water_Zmax(D,PDD):# AbsDoseRate_water_zmax = absorb dose rate to water at the dose  of maximum,Zmax\n",
    "    DD = 100*(D/PDD)  #DD= Dw,Q(Zmax), PDD = PDD(Zref)= percentage depth dose at reference detth 10cm,SSD= 100cm,FS= 10cm x 10cm\n",
    "    return DD         # 100 comes here to replace the percentage in PDD"
   ]
  },
  {
   "cell_type": "code",
   "execution_count": 10,
   "metadata": {},
   "outputs": [
    {
     "data": {
      "text/plain": [
       "1.0299506748041534"
      ]
     },
     "execution_count": 10,
     "metadata": {},
     "output_type": "execute_result"
    }
   ],
   "source": [
    " AbsDoseRate_water_Zmax(0.6921268534683911,67.2)   #  unit = Gy/100MU PDD = 67 .2 %"
   ]
  },
  {
   "cell_type": "markdown",
   "metadata": {},
   "source": [
    "# Absorbed Dose Rate to Water at the Depth of dose maximum,Zmax in SAD set up"
   ]
  },
  {
   "cell_type": "code",
   "execution_count": 11,
   "metadata": {},
   "outputs": [],
   "source": [
    "def AbsDoseRate_water_Zmax(D,PDD):# AbsDoseRate_water_zmax = absorb dose rate to water at the dose  of maximum,Zmax\n",
    "    DD = (D/TMR)  #DD= Dw,Q(Zmax), TMR = TMR(Zref)= tissue maximum ratio at 10 cmm depth for FS= 10cm x 10cm\n",
    "    return DD         "
   ]
  }
 ],
 "metadata": {
  "kernelspec": {
   "display_name": "Python 3",
   "language": "python",
   "name": "python3"
  },
  "language_info": {
   "codemirror_mode": {
    "name": "ipython",
    "version": 3
   },
   "file_extension": ".py",
   "mimetype": "text/x-python",
   "name": "python",
   "nbconvert_exporter": "python",
   "pygments_lexer": "ipython3",
   "version": "3.7.6"
  }
 },
 "nbformat": 4,
 "nbformat_minor": 4
}
