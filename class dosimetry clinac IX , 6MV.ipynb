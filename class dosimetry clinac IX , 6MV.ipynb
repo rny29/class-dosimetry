{
 "cells": [
  {
   "cell_type": "markdown",
   "metadata": {},
   "source": [
    "# Determination of the absorb dose water in a high-energy photon beam (6MV)\n"
   ]
  },
  {
   "cell_type": "markdown",
   "metadata": {},
   "source": [
    "# Radiation Treatment Unit and Reference Conditions for D w,Q Determination"
   ]
  },
  {
   "cell_type": "code",
   "execution_count": null,
   "metadata": {},
   "outputs": [],
   "source": [
    "# Accelerator =  Clinac Ix\n",
    "#Nominal dose rate:300 MU/min\n",
    "#Nominal energy = 6MV = nominal accelerator potential\n",
    "# Phantom: water,\n",
    "# FS = 10cm X 10 cm, Collimator = 0, Couch angle = 0, Gantry = 0\n",
    "#SSD = 100cm\n",
    "# reference depth Zref: 10 gm/cm2\n",
    "#  Beam quality,Q(TPR 20/10) = 0.677           \n"
   ]
  },
  {
   "cell_type": "markdown",
   "metadata": {},
   "source": [
    "# Ioniztion Chamber and Electrometer"
   ]
  },
  {
   "cell_type": "code",
   "execution_count": null,
   "metadata": {},
   "outputs": [],
   "source": [
    "# Ion. chamber model: wellhofer IC 70 Farmer\n",
    "# serial No : WD 302\n",
    "# chamber wall material : graphite\n",
    "# chamber wall thickness: o.068 gm/cm2\n",
    "\n",
    "# Electrometer model : Dose 1, serial No = 03\\8444, range setting = 0-10nA"
   ]
  },
  {
   "cell_type": "markdown",
   "metadata": {},
   "source": [
    "# Calibration Factor and its Reference Condtion"
   ]
  },
  {
   "cell_type": "code",
   "execution_count": null,
   "metadata": {},
   "outputs": [],
   "source": [
    "# Abs. dose to water callibration factor N D, w, Q o(N) = 0.04846 Gy/nC = 4.846 cGy/nC, calibration quality Qo = Co-60\n",
    "# calibration depth = 10 gm/cm2\n",
    "# reference condition for calibration: Po = 103.3 kPa , To = 20.0 degree celcius, Relative humidity = 50 %"
   ]
  },
  {
   "cell_type": "markdown",
   "metadata": {},
   "source": [
    "# Dosimetry Reading"
   ]
  },
  {
   "cell_type": "code",
   "execution_count": null,
   "metadata": {},
   "outputs": [],
   "source": [
    "# Reading absorb dose measurment:(M1)= 13.25 nC (mean readins) at V1 = 300 , MU = 100, T = 26.4 degree celcius, P = 97.8 kPa FS = 10 cmx 10cm,\n",
    "# M1 = 0.1325 nC/MU\n",
    "# Reading for recombination correction:M1= 13.44 nC(mean reading) for V1 = 300V and M2 = 13.35(mean reading) nC for V2 = 100 V\n",
    "# Reading for polarity correction: M3 = M+ = 13.44 nC(mean reading) for +300 V and M4 = M- = 13.48 nC(mean reading) for -300V \n",
    "# Reading for TPR calculation:SSD = 90cm, Depth = 10cm, M10 =  ,SSD = 80cm, depth = 20,M20 = .....TPR20,10= 0.663\n"
   ]
  },
  {
   "cell_type": "markdown",
   "metadata": {},
   "source": [
    "# Correction For Influence Quantities : Temperature, Pressure, Polarity and Recombination of  Charge"
   ]
  },
  {
   "cell_type": "code",
   "execution_count": 4,
   "metadata": {},
   "outputs": [],
   "source": [
    "class dosimetry ():\n",
    "    def __init__(self, value_of_N, value_of_K, supplied_info): # calibration factor N = NDw,Qo = 0.04846 Gy/nC, K = KQQo = 0.9933 \n",
    "        self.N = value_of_N\n",
    "        self.info = supplied_info\n",
    "        self.K = value_of_K \n",
    "    def TPcorr (self, T, P):\n",
    "        Ktp = ((273.2+T)/293.2)*(101.3/P)  # 293.2 = 273.2 + To where To = 20.0 degree celcious and Po = 101.3 kPa\n",
    "        print(self.info)                  # P = 98.0 kPa and T = 28.2 degree celcius relative humidity = 50 %\n",
    "        return Ktp\n",
    "    def recombinationcorr (self,M1,M2):      # M1 =13.25 nC(mean) and M2 = 12.9 nC(mean) for +300v and 100v respectively\n",
    "        Ks = 1.1980 + float(-0.8753)*(M1/M2) + float(0.6773)*(M1/M2)**2  # ao = 1.1980,a1 = -0.8753 and a2 = 0.6773\n",
    "        print(self.info)\n",
    "        return Ks\n",
    "    \n",
    "    def polaritycorr (self,M3,M4):       # M3= M+ = 13.25 nC (mean) and M4 = M- = 13.0 nC(mean) for +300V and  -300V respectively\n",
    "        Kpol = (M3 + M4)/(2*M3)         # here M+ and M- replaced by M3 and M4 to make easy to make function\n",
    "        print(self.info)\n",
    "        return Kpol"
   ]
  },
  {
   "cell_type": "code",
   "execution_count": 7,
   "metadata": {},
   "outputs": [],
   "source": [
    "D1 = dosimetry(value_of_N = 0.04846, value_of_K = 0.9933,supplied_info = \"great job\")"
   ]
  },
  {
   "cell_type": "code",
   "execution_count": 8,
   "metadata": {},
   "outputs": [
    {
     "name": "stdout",
     "output_type": "stream",
     "text": [
      "great job\n",
      "great job\n",
      "great job\n"
     ]
    },
    {
     "data": {
      "text/plain": [
       "(1.0583965941016134, 0.9905660377358491, 1.0135028468842016, 0.04846, 0.9933)"
      ]
     },
     "execution_count": 8,
     "metadata": {},
     "output_type": "execute_result"
    }
   ],
   "source": [
    "D1.TPcorr(26.4,97.8),D1.polaritycorr(13.25,13.0),D1.recombinationcorr(13.25,12.9),D1.N ,D1.K "
   ]
  },
  {
   "cell_type": "markdown",
   "metadata": {},
   "source": [
    "# Absorbed Dose Rate to Water at the Reference Depth Zref"
   ]
  },
  {
   "cell_type": "code",
   "execution_count": 11,
   "metadata": {},
   "outputs": [],
   "source": [
    "def AbsDoseRate_water_Zref(M1,Ktp,Kpol,Ks,N,K): # AbsDoseRate_Zref = absorb dose rate to water at the referenve depth Zrer\n",
    "    D = M1*Ktp*Kpol*Ks*N*K   #D= Dw,Q(Zref)\n",
    "    return D"
   ]
  },
  {
   "cell_type": "code",
   "execution_count": 12,
   "metadata": {},
   "outputs": [
    {
     "data": {
      "text/plain": [
       "0.006776985617030789"
      ]
     },
     "execution_count": 12,
     "metadata": {},
     "output_type": "execute_result"
    }
   ],
   "source": [
    "AbsDoseRate_water_Zref(0.1325,1.0583965941016134, 0.9905660377358491, 1.0135028468842016, 0.04846, 0.9933) # unit = Gy/MU"
   ]
  },
  {
   "cell_type": "markdown",
   "metadata": {},
   "source": [
    "# Absorbed Dose Rate to Water at the Depth of dose maximum,Zmax in SSD Set Up"
   ]
  },
  {
   "cell_type": "code",
   "execution_count": 13,
   "metadata": {},
   "outputs": [],
   "source": [
    "def AbsDoseRate_water_Zmax(D,PDD):# AbsDoseRate_water_zmax = absorb dose rate to water at the dose  of maximum,Zmax\n",
    "    DD = 100*(D/PDD)  #DD= Dw,Q(Zmax), PDD = PDD(Zref)= percentage depth dose at reference detth 10cm,SSD= 100cm,FS= 10cm x 10cm\n",
    "    return DD         # 100 comes here to replace the percentage in PDD"
   ]
  },
  {
   "cell_type": "code",
   "execution_count": 14,
   "metadata": {},
   "outputs": [
    {
     "data": {
      "text/plain": [
       "0.010084800025343435"
      ]
     },
     "execution_count": 14,
     "metadata": {},
     "output_type": "execute_result"
    }
   ],
   "source": [
    "AbsDoseRate_water_Zmax(0.006776985617030789,67.20)   #  unit = Gy/MU PDD = 67 .20 %"
   ]
  },
  {
   "cell_type": "code",
   "execution_count": 15,
   "metadata": {},
   "outputs": [
    {
     "data": {
      "text/plain": [
       "1.0084800025343434"
      ]
     },
     "execution_count": 15,
     "metadata": {},
     "output_type": "execute_result"
    }
   ],
   "source": [
    "AbsDoseRate_water_Zmax(0.6776985617030789,67.20)   #  unit = cGy/MU PDD = 67 .20 % changed to centiGray by 100 in result"
   ]
  },
  {
   "cell_type": "markdown",
   "metadata": {},
   "source": [
    "# Absorbed Dose Rate to Water at the Depth of dose maximum,Zmax in SAD set up"
   ]
  },
  {
   "cell_type": "code",
   "execution_count": 17,
   "metadata": {},
   "outputs": [],
   "source": [
    "def AbsDoseRate_water_Zmax(D,PDD):# AbsDoseRate_water_zmax = absorb dose rate to water at the dose  of maximum,Zmax\n",
    "    DD = (D/TMR)  #DD= Dw,Q(Zmax), TMR = TMR(Zref)= tissue maximum ratio at 10 cmm depth for FS= 10cm x 10cm\n",
    "    return DD         "
   ]
  },
  {
   "cell_type": "markdown",
   "metadata": {},
   "source": [
    "# TPR 20,10 measurement "
   ]
  },
  {
   "cell_type": "code",
   "execution_count": 30,
   "metadata": {},
   "outputs": [],
   "source": [
    "def beamquality(M20,M10):    # M20 = mean reading while ssd = 80 cm and depth = 20\n",
    "    Q = (M20/M10)              # M10 = mean reading while ssd = 90 cm and depth = 10 cm\n",
    "    return Q                 # beam quality,Q(TPR20,10) 20 and 10 are in subscript"
   ]
  },
  {
   "cell_type": "code",
   "execution_count": null,
   "metadata": {},
   "outputs": [],
   "source": []
  }
 ],
 "metadata": {
  "kernelspec": {
   "display_name": "Python 3",
   "language": "python",
   "name": "python3"
  },
  "language_info": {
   "codemirror_mode": {
    "name": "ipython",
    "version": 3
   },
   "file_extension": ".py",
   "mimetype": "text/x-python",
   "name": "python",
   "nbconvert_exporter": "python",
   "pygments_lexer": "ipython3",
   "version": "3.7.6"
  }
 },
 "nbformat": 4,
 "nbformat_minor": 4
}
