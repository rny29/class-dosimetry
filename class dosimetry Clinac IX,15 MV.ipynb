{
 "cells": [
  {
   "cell_type": "markdown",
   "metadata": {},
   "source": [
    "# Determination of the absorb dose water in a high-energy photon beam (15MV)"
   ]
  },
  {
   "cell_type": "markdown",
   "metadata": {},
   "source": [
    "# Radiation Treatment Unit and Reference Conditions for D w,Q Determination"
   ]
  },
  {
   "cell_type": "code",
   "execution_count": null,
   "metadata": {},
   "outputs": [],
   "source": [
    "# Accelerator =  Clinac Ix\n",
    "#Nominal dose rate:300 MU/min\n",
    "#Nominal energy = 15MV = nominal accelerator potential\n",
    "# Phantom: water,\n",
    "# FS = 10cm X 10 cm, Collimator = 0, Couch angle = 0, Gantry = 0\n",
    "#SSD = 100cm\n",
    "# reference depth Zref: 10 gm/cm2\n",
    "#  Beam quality,Q(TPR 20/10) = 0.769 "
   ]
  },
  {
   "cell_type": "markdown",
   "metadata": {},
   "source": [
    "# Ioniztion Chamber and Electrometer"
   ]
  },
  {
   "cell_type": "code",
   "execution_count": null,
   "metadata": {},
   "outputs": [],
   "source": [
    "# Ion. chamber model: wellhofer IC 70 Farmer\n",
    "# serial No : WD 302\n",
    "# chamber wall material : graphite\n",
    "# chamber wall thickness: o.068 gm/cm2\n",
    "\n",
    "# Electrometer model : Dose 1, serial No = 03\\8444, range setting = 0-10nA"
   ]
  },
  {
   "cell_type": "markdown",
   "metadata": {},
   "source": [
    "# Calibration Factor and its Reference Condtion"
   ]
  },
  {
   "cell_type": "code",
   "execution_count": null,
   "metadata": {},
   "outputs": [],
   "source": [
    "# Abs. dose to water callibration factor N D, w, Q o(N) = 0.04846 Gy/nC = 4.846 cGy/nC, calibration quality Qo = Co-60\n",
    "# calibration depth = 10 gm/cm2\n",
    "# reference condition for calibration: Po = 103.3 kPa , To = 20.0 degree celcius, Relative humidity = 50 %"
   ]
  },
  {
   "cell_type": "markdown",
   "metadata": {},
   "source": [
    "# Dosimetry Reading"
   ]
  },
  {
   "cell_type": "code",
   "execution_count": null,
   "metadata": {},
   "outputs": [],
   "source": [
    "# Reading absorb dose measurment:(M1)= 46.73 nC (mean readins) at V1 = 300 , MU = 300, T = 18.1.4 degree celcius, P = 97.9 kPa FS = 10 cmx 10cm,\n",
    "# M1 = 0.1558 nC/MU\n",
    "# Reading for recombination correction:M1= 46.73 nC(mean reading) for V1 = 300V and M2 = 46.13(mean reading) nC for V2 = 100 V\n",
    "# Reading for polarity correction: M3 = M+ = 46.73 nC(mean) for +300 V and M4 = M- = 46.77 nC(mean) for -300V \n",
    "# Reading for TPR calculation:SSD = 90cm, Depth = 10cm, M10 =  ,SSD = 80cm, depth = 20,M20 = .....TPR20,10= 0.663"
   ]
  },
  {
   "cell_type": "markdown",
   "metadata": {},
   "source": [
    "# Correction For Influence Quantities : Temperature, Pressure, Polarity and Recombination of Charge"
   ]
  },
  {
   "cell_type": "code",
   "execution_count": 4,
   "metadata": {},
   "outputs": [],
   "source": [
    "class dosimetry ():\n",
    "    def __init__(self, value_of_N, value_of_K, supplied_info): # calibration factor  NDw,Qo = 0.04846 Gy/nC = N (say )\n",
    "        self.N = value_of_N                                    #Beam quality corr factor for user quality Q:KQQo = 0.9780 =K(say) \n",
    "        self.info = supplied_info\n",
    "        self.K = value_of_K \n",
    "    def TPcorr (self, T, P):\n",
    "        Ktp = ((273.2+T)/293.2)*(101.3/P)  # 293.2 = 273.2 + To where To = 20.0 degree celcious and Po = 101.3 kPa\n",
    "        print(self.info)                  # P = 97.9 kPa and T = 18.1 degree celcius relative humidity = 50 %\n",
    "        return Ktp\n",
    "    def recombinationcorr (self,M1,M2):      # M1 =46.73 nC(mean) and M2 = 46.13 nC(mean) for +300v and 100v respectively\n",
    "        Ks = 1.1980 + float(-0.8753)*(M1/M2) + float(0.6773)*(M1/M2)**2  # ao = 1.1980,a1 = -0.8753 and a2 = 0.6773\n",
    "        print(self.info)\n",
    "        return Ks\n",
    "    \n",
    "    def polaritycorr (self,M3,M4):  # M3= M+ = 46.73 nC (mean) and M4 = M- = 46.77 nC(mean) for +300V and -300V respectively\n",
    "        Kpol = (M3 + M4)/(2*M3)     # here M+ and M- replaced by M3 and M4 to make easy to make function\n",
    "        print(self.info)\n",
    "        return Kpol"
   ]
  },
  {
   "cell_type": "code",
   "execution_count": 7,
   "metadata": {},
   "outputs": [],
   "source": [
    "D1 = dosimetry(value_of_N = 0.04846, value_of_K = 0.9980,supplied_info = \"great job\")"
   ]
  },
  {
   "cell_type": "code",
   "execution_count": 8,
   "metadata": {},
   "outputs": [
    {
     "name": "stdout",
     "output_type": "stream",
     "text": [
      "great job\n",
      "great job\n",
      "great job\n"
     ]
    },
    {
     "data": {
      "text/plain": [
       "(1.0280240438011337, 1.0004279905842073, 1.0063487030333835, 0.04846, 0.998)"
      ]
     },
     "execution_count": 8,
     "metadata": {},
     "output_type": "execute_result"
    }
   ],
   "source": [
    "D1.TPcorr(18.1,97.9),D1.polaritycorr(46.73,46.77),D1.recombinationcorr(46.73,46.13),D1.N ,D1.K "
   ]
  },
  {
   "cell_type": "markdown",
   "metadata": {},
   "source": [
    "# Absorbed Dose Rate to Water at the Reference Depth Zref"
   ]
  },
  {
   "cell_type": "code",
   "execution_count": 10,
   "metadata": {},
   "outputs": [],
   "source": [
    "def AbsDoseRate_water_Zref(M1,Ktp,Kpol,Ks,N,K): # AbsDoseRate_Zref = absorb dose rate to water at the referenve depth Zrer\n",
    "    D = M1*Ktp*Kpol*Ks*N*K   #D= Dw,Q(Zref)\n",
    "    return D"
   ]
  },
  {
   "cell_type": "code",
   "execution_count": 11,
   "metadata": {},
   "outputs": [
    {
     "data": {
      "text/plain": [
       "0.007798642318208039"
      ]
     },
     "execution_count": 11,
     "metadata": {},
     "output_type": "execute_result"
    }
   ],
   "source": [
    "AbsDoseRate_water_Zref(0.1558,1.0280240438011337, 1.0004279905842073, 1.0063487030333835, 0.04846, 0.998) # unit = Gy/MU"
   ]
  },
  {
   "cell_type": "markdown",
   "metadata": {},
   "source": [
    "# Absorbed Dose Rate to Water at the Depth of dose maximum,Zmax in SSD Set Up"
   ]
  },
  {
   "cell_type": "code",
   "execution_count": 13,
   "metadata": {},
   "outputs": [],
   "source": [
    "def AbsDoseRate_water_Zmax(D,PDD):# AbsDoseRate_water_zmax = absorb dose rate to water at the dose  of maximum,Zmax\n",
    "    DD = 100*(D/PDD)  #DD= Dw,Q(Zmax), PDD = PDD(Zref)= percentage depth dose at reference detth 10cm,SSD= 100cm,FS= 10cm x 10cm\n",
    "    return DD         # 100 comes here to replace the percentage in PDD"
   ]
  },
  {
   "cell_type": "code",
   "execution_count": 14,
   "metadata": {},
   "outputs": [
    {
     "data": {
      "text/plain": [
       "0.01018099519348308"
      ]
     },
     "execution_count": 14,
     "metadata": {},
     "output_type": "execute_result"
    }
   ],
   "source": [
    "AbsDoseRate_water_Zmax(0.007798642318208039,76.6)   #  unit = Gy/MU PDD = 76 .60 %"
   ]
  },
  {
   "cell_type": "code",
   "execution_count": 15,
   "metadata": {},
   "outputs": [
    {
     "data": {
      "text/plain": [
       "1.018099519348308"
      ]
     },
     "execution_count": 15,
     "metadata": {},
     "output_type": "execute_result"
    }
   ],
   "source": [
    "AbsDoseRate_water_Zmax(0.7798642318208039,76.6)   #  unit = cGy/MU PDD = 67 .20 % changed to centiGray by 100 in result"
   ]
  },
  {
   "cell_type": "markdown",
   "metadata": {},
   "source": [
    "# Absorbed Dose Rate to Water at the Depth of dose maximum,Zmax in SAD set up"
   ]
  },
  {
   "cell_type": "code",
   "execution_count": 16,
   "metadata": {},
   "outputs": [],
   "source": [
    "def AbsDoseRate_water_Zmax(D,PDD):# AbsDoseRate_water_zmax = absorb dose rate to water at the dose  of maximum,Zmax\n",
    "    DD = (D/TMR)  #DD= Dw,Q(Zmax), TMR = TMR(Zref)= tissue maximum ratio at 10 cmm depth for FS= 10cm x 10cm\n",
    "    return DD         "
   ]
  },
  {
   "cell_type": "code",
   "execution_count": null,
   "metadata": {},
   "outputs": [],
   "source": []
  }
 ],
 "metadata": {
  "kernelspec": {
   "display_name": "Python 3",
   "language": "python",
   "name": "python3"
  },
  "language_info": {
   "codemirror_mode": {
    "name": "ipython",
    "version": 3
   },
   "file_extension": ".py",
   "mimetype": "text/x-python",
   "name": "python",
   "nbconvert_exporter": "python",
   "pygments_lexer": "ipython3",
   "version": "3.7.6"
  }
 },
 "nbformat": 4,
 "nbformat_minor": 4
}
